{
 "cells": [
  {
   "cell_type": "code",
   "execution_count": 1,
   "id": "6f412044",
   "metadata": {},
   "outputs": [
    {
     "name": "stdout",
     "output_type": "stream",
     "text": [
      "Requirement already satisfied: ibm_watson_machine_learning in c:\\users\\anitha\\anaconda3\\lib\\site-packages (1.0.232)\n",
      "Requirement already satisfied: urllib3 in c:\\users\\anitha\\anaconda3\\lib\\site-packages (from ibm_watson_machine_learning) (1.26.11)\n",
      "Requirement already satisfied: importlib-metadata in c:\\users\\anitha\\anaconda3\\lib\\site-packages (from ibm_watson_machine_learning) (3.10.0)\n",
      "Requirement already satisfied: tabulate in c:\\users\\anitha\\anaconda3\\lib\\site-packages (from ibm_watson_machine_learning) (0.8.10)\n",
      "Requirement already satisfied: packaging in c:\\users\\anitha\\anaconda3\\lib\\site-packages (from ibm_watson_machine_learning) (20.9)\n",
      "Requirement already satisfied: certifi in c:\\users\\anitha\\anaconda3\\lib\\site-packages (from ibm_watson_machine_learning) (2020.12.5)\n",
      "Requirement already satisfied: lomond in c:\\users\\anitha\\anaconda3\\lib\\site-packages (from ibm_watson_machine_learning) (0.3.3)\n",
      "Requirement already satisfied: pandas<1.4.0,>=0.24.2 in c:\\users\\anitha\\anaconda3\\lib\\site-packages (from ibm_watson_machine_learning) (1.2.4)\n",
      "Requirement already satisfied: requests in c:\\users\\anitha\\anaconda3\\lib\\site-packages (from ibm_watson_machine_learning) (2.28.1)\n",
      "Requirement already satisfied: ibm-cos-sdk==2.7.* in c:\\users\\anitha\\anaconda3\\lib\\site-packages (from ibm_watson_machine_learning) (2.7.0)\n",
      "Requirement already satisfied: ibm-cos-sdk-s3transfer==2.7.0 in c:\\users\\anitha\\anaconda3\\lib\\site-packages (from ibm-cos-sdk==2.7.*->ibm_watson_machine_learning) (2.7.0)\n",
      "Requirement already satisfied: jmespath<1.0.0,>=0.7.1 in c:\\users\\anitha\\anaconda3\\lib\\site-packages (from ibm-cos-sdk==2.7.*->ibm_watson_machine_learning) (0.10.0)\n",
      "Requirement already satisfied: ibm-cos-sdk-core==2.7.0 in c:\\users\\anitha\\anaconda3\\lib\\site-packages (from ibm-cos-sdk==2.7.*->ibm_watson_machine_learning) (2.7.0)\n",
      "Requirement already satisfied: docutils<0.16,>=0.10 in c:\\users\\anitha\\anaconda3\\lib\\site-packages (from ibm-cos-sdk-core==2.7.0->ibm-cos-sdk==2.7.*->ibm_watson_machine_learning) (0.15.2)\n",
      "Requirement already satisfied: python-dateutil<3.0.0,>=2.1 in c:\\users\\anitha\\anaconda3\\lib\\site-packages (from ibm-cos-sdk-core==2.7.0->ibm-cos-sdk==2.7.*->ibm_watson_machine_learning) (2.8.2)\n",
      "Requirement already satisfied: numpy>=1.16.5 in c:\\users\\anitha\\anaconda3\\lib\\site-packages (from pandas<1.4.0,>=0.24.2->ibm_watson_machine_learning) (1.19.5)\n",
      "Requirement already satisfied: pytz>=2017.3 in c:\\users\\anitha\\anaconda3\\lib\\site-packages (from pandas<1.4.0,>=0.24.2->ibm_watson_machine_learning) (2021.1)\n",
      "Requirement already satisfied: six>=1.5 in c:\\users\\anitha\\anaconda3\\lib\\site-packages (from python-dateutil<3.0.0,>=2.1->ibm-cos-sdk-core==2.7.0->ibm-cos-sdk==2.7.*->ibm_watson_machine_learning) (1.15.0)\n",
      "Requirement already satisfied: charset-normalizer<3,>=2 in c:\\users\\anitha\\anaconda3\\lib\\site-packages (from requests->ibm_watson_machine_learning) (2.1.0)\n",
      "Requirement already satisfied: idna<4,>=2.5 in c:\\users\\anitha\\anaconda3\\lib\\site-packages (from requests->ibm_watson_machine_learning) (2.10)\n",
      "Requirement already satisfied: zipp>=0.5 in c:\\users\\anitha\\anaconda3\\lib\\site-packages (from importlib-metadata->ibm_watson_machine_learning) (3.4.1)\n",
      "Requirement already satisfied: pyparsing>=2.0.2 in c:\\users\\anitha\\anaconda3\\lib\\site-packages (from packaging->ibm_watson_machine_learning) (2.4.7)\n",
      "Note: you may need to restart the kernel to use updated packages.\n"
     ]
    }
   ],
   "source": [
    "pip install ibm_watson_machine_learning"
   ]
  },
  {
   "cell_type": "code",
   "execution_count": 2,
   "id": "27b8dcd3",
   "metadata": {},
   "outputs": [],
   "source": [
    "from ibm_watson_machine_learning import APIClient\n",
    "wml_credentials={\n",
    "\t\"url\":\"https://eu-gb.ml.cloud.ibm.com\",\n",
    "\t\"apikey\":\"blyJyOvbJEy-LjIJWIAEeBen6voOl4Vk_BwhHIzLk4Nl\"\n",
    "}"
   ]
  },
  {
   "cell_type": "code",
   "execution_count": 3,
   "id": "fb616324",
   "metadata": {},
   "outputs": [
    {
     "name": "stdout",
     "output_type": "stream",
     "text": [
      "Python 3.7 and 3.8 frameworks are deprecated and will be removed in a future release. Use Python 3.9 framework instead.\n"
     ]
    }
   ],
   "source": [
    "client=APIClient(wml_credentials)"
   ]
  },
  {
   "cell_type": "code",
   "execution_count": 4,
   "id": "d50d386d",
   "metadata": {},
   "outputs": [],
   "source": [
    "def guid_space_name(client,FERTILIZER_DEPLOYMENT):\n",
    "\tspace=client.spaces.get_details()\n",
    "\treturn(next(item for item in space['resources']if item['entity']['name']==FERTILIZER_DEPLOYMENT)['metadata']['id'])"
   ]
  },
  {
   "cell_type": "code",
   "execution_count": 5,
   "id": "b056fada",
   "metadata": {},
   "outputs": [
    {
     "name": "stdout",
     "output_type": "stream",
     "text": [
      "bcea7c25-77c4-4a2e-8ae4-85d7fb01bc73\n"
     ]
    }
   ],
   "source": [
    "space_uid=guid_space_name(client,'FERTILIZER_DEPLOYMENT')\n",
    "print(space_uid)"
   ]
  },
  {
   "cell_type": "code",
   "execution_count": 6,
   "id": "23c9a77c",
   "metadata": {},
   "outputs": [
    {
     "data": {
      "text/plain": [
       "'SUCCESS'"
      ]
     },
     "execution_count": 6,
     "metadata": {},
     "output_type": "execute_result"
    }
   ],
   "source": [
    "client.set.default_space(space_uid)"
   ]
  },
  {
   "cell_type": "code",
   "execution_count": 7,
   "id": "af100e1d",
   "metadata": {},
   "outputs": [
    {
     "name": "stdout",
     "output_type": "stream",
     "text": [
      "Successfully saved model content to file: 'fert_Vegetable.tar.gz'\n"
     ]
    },
    {
     "data": {
      "text/plain": [
       "'E:\\\\Fertilizers Recommendation System For Disease Prediction/fert_Vegetable.tar.gz'"
      ]
     },
     "execution_count": 7,
     "metadata": {},
     "output_type": "execute_result"
    }
   ],
   "source": [
    "client.repository.download(\"e311b7d2-fe42-4aeb-9d13-930f40621a7c\",\"fert_Vegetable.tar.gz\")"
   ]
  },
  {
   "cell_type": "code",
   "execution_count": null,
   "id": "64c10b5f",
   "metadata": {},
   "outputs": [],
   "source": []
  }
 ],
 "metadata": {
  "kernelspec": {
   "display_name": "Python 3",
   "language": "python",
   "name": "python3"
  },
  "language_info": {
   "codemirror_mode": {
    "name": "ipython",
    "version": 3
   },
   "file_extension": ".py",
   "mimetype": "text/x-python",
   "name": "python",
   "nbconvert_exporter": "python",
   "pygments_lexer": "ipython3",
   "version": "3.8.8"
  }
 },
 "nbformat": 4,
 "nbformat_minor": 5
}
